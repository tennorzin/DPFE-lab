{
 "cells": [
  {
   "cell_type": "code",
   "execution_count": 6,
   "id": "1c3dbf05-2c2a-4fef-a356-b80395c14d95",
   "metadata": {},
   "outputs": [],
   "source": [
    "import numpy as np\n",
    "import pandas as pd"
   ]
  },
  {
   "cell_type": "code",
   "execution_count": 2,
   "id": "f65a109f-cab8-458f-9870-913643510c2d",
   "metadata": {},
   "outputs": [],
   "source": [
    "d={'USN':[100,101,102],\n",
    "   'name':['raj','ram','rajesh'],\n",
    "  'mobile':[99,88,77],\n",
    "   'marks':[10,9,8]\n",
    "  }"
   ]
  },
  {
   "cell_type": "code",
   "execution_count": 3,
   "id": "f3792ca6-f809-49e3-9e8c-7d80815c9e1f",
   "metadata": {},
   "outputs": [],
   "source": [
    "std=pd.DataFrame(d)"
   ]
  },
  {
   "cell_type": "code",
   "execution_count": 4,
   "id": "fdafd3de-d9ad-4a5e-bbdd-db043cfd7c93",
   "metadata": {},
   "outputs": [
    {
     "name": "stdout",
     "output_type": "stream",
     "text": [
      "   USN    name  mobile  marks\n",
      "0  100     raj      99     10\n",
      "1  101     ram      88      9\n",
      "2  102  rajesh      77      8\n"
     ]
    }
   ],
   "source": [
    "print(std)"
   ]
  },
  {
   "cell_type": "code",
   "execution_count": 10,
   "id": "ba8fe81c-a5ec-48e2-8199-7a6c74966ec3",
   "metadata": {},
   "outputs": [],
   "source": [
    "d1={'c1':[12,13,14],\n",
    "    'c2':[10,11,12]\n",
    "   };\n",
    "d2={'c3':[5,6,7],\n",
    "    'c4':[1,2,3]\n",
    "   };\n",
    "d3={'c5':[123,456,678],\n",
    "    'c6':[3,4,5]\n",
    "   };"
   ]
  },
  {
   "cell_type": "code",
   "execution_count": 11,
   "id": "da98296a-c1ef-49bb-8e88-b20d4cd57289",
   "metadata": {},
   "outputs": [],
   "source": [
    "df1=pd.DataFrame(d1)"
   ]
  },
  {
   "cell_type": "code",
   "execution_count": 12,
   "id": "e3696cff-8c1d-4804-8dbb-c938c423c8e9",
   "metadata": {},
   "outputs": [
    {
     "name": "stdout",
     "output_type": "stream",
     "text": [
      "   c1  c2\n",
      "0  12  10\n",
      "1  13  11\n",
      "2  14  12\n"
     ]
    }
   ],
   "source": [
    "print(df1)"
   ]
  },
  {
   "cell_type": "code",
   "execution_count": 13,
   "id": "d7fed3ac-ad0a-4a67-9b1d-11cf638884d5",
   "metadata": {},
   "outputs": [],
   "source": [
    "df2=pd.DataFrame(d2)"
   ]
  },
  {
   "cell_type": "code",
   "execution_count": 14,
   "id": "96be1df2-6805-4a27-83dd-4d7e1a251dd2",
   "metadata": {},
   "outputs": [
    {
     "name": "stdout",
     "output_type": "stream",
     "text": [
      "   c3  c4\n",
      "0   5   1\n",
      "1   6   2\n",
      "2   7   3\n"
     ]
    }
   ],
   "source": [
    "print(df2)"
   ]
  },
  {
   "cell_type": "code",
   "execution_count": 15,
   "id": "bd84ffa1-0ec9-4a96-bbae-21ff917dc3be",
   "metadata": {},
   "outputs": [],
   "source": [
    "df3=pd.DataFrame(d3)"
   ]
  },
  {
   "cell_type": "code",
   "execution_count": 16,
   "id": "7871c164-fb00-461b-ae60-9fc6d1af60b5",
   "metadata": {},
   "outputs": [
    {
     "name": "stdout",
     "output_type": "stream",
     "text": [
      "    c5  c6\n",
      "0  123   3\n",
      "1  456   4\n",
      "2  678   5\n"
     ]
    }
   ],
   "source": [
    "print(df3)"
   ]
  },
  {
   "cell_type": "code",
   "execution_count": 19,
   "id": "988c9f7c-f611-444d-9e20-d6ecfe1965a8",
   "metadata": {},
   "outputs": [
    {
     "data": {
      "text/html": [
       "<div>\n",
       "<style scoped>\n",
       "    .dataframe tbody tr th:only-of-type {\n",
       "        vertical-align: middle;\n",
       "    }\n",
       "\n",
       "    .dataframe tbody tr th {\n",
       "        vertical-align: top;\n",
       "    }\n",
       "\n",
       "    .dataframe thead th {\n",
       "        text-align: right;\n",
       "    }\n",
       "</style>\n",
       "<table border=\"1\" class=\"dataframe\">\n",
       "  <thead>\n",
       "    <tr style=\"text-align: right;\">\n",
       "      <th></th>\n",
       "      <th>c1</th>\n",
       "      <th>c2</th>\n",
       "      <th>c3</th>\n",
       "      <th>c4</th>\n",
       "    </tr>\n",
       "  </thead>\n",
       "  <tbody>\n",
       "    <tr>\n",
       "      <th>0</th>\n",
       "      <td>12.0</td>\n",
       "      <td>10.0</td>\n",
       "      <td>NaN</td>\n",
       "      <td>NaN</td>\n",
       "    </tr>\n",
       "    <tr>\n",
       "      <th>1</th>\n",
       "      <td>13.0</td>\n",
       "      <td>11.0</td>\n",
       "      <td>NaN</td>\n",
       "      <td>NaN</td>\n",
       "    </tr>\n",
       "    <tr>\n",
       "      <th>2</th>\n",
       "      <td>14.0</td>\n",
       "      <td>12.0</td>\n",
       "      <td>NaN</td>\n",
       "      <td>NaN</td>\n",
       "    </tr>\n",
       "    <tr>\n",
       "      <th>0</th>\n",
       "      <td>NaN</td>\n",
       "      <td>NaN</td>\n",
       "      <td>5.0</td>\n",
       "      <td>1.0</td>\n",
       "    </tr>\n",
       "    <tr>\n",
       "      <th>1</th>\n",
       "      <td>NaN</td>\n",
       "      <td>NaN</td>\n",
       "      <td>6.0</td>\n",
       "      <td>2.0</td>\n",
       "    </tr>\n",
       "    <tr>\n",
       "      <th>2</th>\n",
       "      <td>NaN</td>\n",
       "      <td>NaN</td>\n",
       "      <td>7.0</td>\n",
       "      <td>3.0</td>\n",
       "    </tr>\n",
       "  </tbody>\n",
       "</table>\n",
       "</div>"
      ],
      "text/plain": [
       "     c1    c2   c3   c4\n",
       "0  12.0  10.0  NaN  NaN\n",
       "1  13.0  11.0  NaN  NaN\n",
       "2  14.0  12.0  NaN  NaN\n",
       "0   NaN   NaN  5.0  1.0\n",
       "1   NaN   NaN  6.0  2.0\n",
       "2   NaN   NaN  7.0  3.0"
      ]
     },
     "execution_count": 19,
     "metadata": {},
     "output_type": "execute_result"
    }
   ],
   "source": [
    "pd.concat([df1,df2])"
   ]
  },
  {
   "cell_type": "markdown",
   "id": "0472fd0d-1209-4c95-a6eb-f7b5fcfafb3f",
   "metadata": {},
   "source": [
    "join types\n",
    "1.inner combine 2 data frames based on common clomun name : on \n",
    "2.right\n",
    "3.left\n",
    "4.outer"
   ]
  },
  {
   "cell_type": "code",
   "execution_count": 21,
   "id": "76120e3c-9e87-4e95-ac05-9668c03cfedc",
   "metadata": {},
   "outputs": [],
   "source": [
    "d4={'c1':[12,13,14],\n",
    "    'c2':[10,11,12]\n",
    "   };\n",
    "d5={'c2':[5,6,7],\n",
    "    'c4':[1,2,3]\n",
    "   };"
   ]
  },
  {
   "cell_type": "code",
   "execution_count": 24,
   "id": "e50b2d42-bf46-4600-ab95-31f88bbc7b6c",
   "metadata": {},
   "outputs": [],
   "source": [
    "df4=pd.DataFrame(d4)\n",
    "df5=pd.DataFrame(d5)"
   ]
  },
  {
   "cell_type": "code",
   "execution_count": 27,
   "id": "db75818e-5b0f-41b1-9a7f-c2824eb86ad8",
   "metadata": {},
   "outputs": [
    {
     "data": {
      "text/html": [
       "<div>\n",
       "<style scoped>\n",
       "    .dataframe tbody tr th:only-of-type {\n",
       "        vertical-align: middle;\n",
       "    }\n",
       "\n",
       "    .dataframe tbody tr th {\n",
       "        vertical-align: top;\n",
       "    }\n",
       "\n",
       "    .dataframe thead th {\n",
       "        text-align: right;\n",
       "    }\n",
       "</style>\n",
       "<table border=\"1\" class=\"dataframe\">\n",
       "  <thead>\n",
       "    <tr style=\"text-align: right;\">\n",
       "      <th></th>\n",
       "      <th>c1</th>\n",
       "      <th>c2</th>\n",
       "      <th>c4</th>\n",
       "    </tr>\n",
       "  </thead>\n",
       "  <tbody>\n",
       "  </tbody>\n",
       "</table>\n",
       "</div>"
      ],
      "text/plain": [
       "Empty DataFrame\n",
       "Columns: [c1, c2, c4]\n",
       "Index: []"
      ]
     },
     "execution_count": 27,
     "metadata": {},
     "output_type": "execute_result"
    }
   ],
   "source": [
    "pd.merge(df4,df5,how='inner',on='c2')\n",
    "# returns only rows which are common "
   ]
  },
  {
   "cell_type": "code",
   "execution_count": 11,
   "id": "539874a0-2253-4252-befc-844c0e7dde82",
   "metadata": {},
   "outputs": [],
   "source": [
    "d6={'c1':[12,13,14,11],\n",
    "    'c2':[5,6,7,10]\n",
    "   };\n",
    "d7={'c2':[5,6,7,9],\n",
    "    'c4':[1,2,3,7]\n",
    "   };\n",
    "d8={'c2':[5,6,7],\n",
    "    'c4':[1,2,3]\n",
    "   };"
   ]
  },
  {
   "cell_type": "code",
   "execution_count": 12,
   "id": "58349480-c103-4317-8c5e-ff9b9bf3b835",
   "metadata": {},
   "outputs": [],
   "source": [
    "df6=pd.DataFrame(d6)\n",
    "df7=pd.DataFrame(d7)\n",
    "df8=pd.DataFrame(d8)"
   ]
  },
  {
   "cell_type": "code",
   "execution_count": 13,
   "id": "18d3fbe7-84aa-4fcf-83ff-a93c3ba47e17",
   "metadata": {},
   "outputs": [
    {
     "data": {
      "text/html": [
       "<div>\n",
       "<style scoped>\n",
       "    .dataframe tbody tr th:only-of-type {\n",
       "        vertical-align: middle;\n",
       "    }\n",
       "\n",
       "    .dataframe tbody tr th {\n",
       "        vertical-align: top;\n",
       "    }\n",
       "\n",
       "    .dataframe thead th {\n",
       "        text-align: right;\n",
       "    }\n",
       "</style>\n",
       "<table border=\"1\" class=\"dataframe\">\n",
       "  <thead>\n",
       "    <tr style=\"text-align: right;\">\n",
       "      <th></th>\n",
       "      <th>c1</th>\n",
       "      <th>c2</th>\n",
       "      <th>c4</th>\n",
       "    </tr>\n",
       "  </thead>\n",
       "  <tbody>\n",
       "    <tr>\n",
       "      <th>0</th>\n",
       "      <td>12</td>\n",
       "      <td>5</td>\n",
       "      <td>1.0</td>\n",
       "    </tr>\n",
       "    <tr>\n",
       "      <th>1</th>\n",
       "      <td>13</td>\n",
       "      <td>6</td>\n",
       "      <td>2.0</td>\n",
       "    </tr>\n",
       "    <tr>\n",
       "      <th>2</th>\n",
       "      <td>14</td>\n",
       "      <td>7</td>\n",
       "      <td>3.0</td>\n",
       "    </tr>\n",
       "    <tr>\n",
       "      <th>3</th>\n",
       "      <td>11</td>\n",
       "      <td>10</td>\n",
       "      <td>NaN</td>\n",
       "    </tr>\n",
       "  </tbody>\n",
       "</table>\n",
       "</div>"
      ],
      "text/plain": [
       "   c1  c2   c4\n",
       "0  12   5  1.0\n",
       "1  13   6  2.0\n",
       "2  14   7  3.0\n",
       "3  11  10  NaN"
      ]
     },
     "execution_count": 13,
     "metadata": {},
     "output_type": "execute_result"
    }
   ],
   "source": [
    "pd.merge(df6,df7,how='left',on='c2')"
   ]
  },
  {
   "cell_type": "code",
   "execution_count": 14,
   "id": "f3a86f0f-801c-48f0-99fb-5d8e2a4456d7",
   "metadata": {},
   "outputs": [
    {
     "data": {
      "text/html": [
       "<div>\n",
       "<style scoped>\n",
       "    .dataframe tbody tr th:only-of-type {\n",
       "        vertical-align: middle;\n",
       "    }\n",
       "\n",
       "    .dataframe tbody tr th {\n",
       "        vertical-align: top;\n",
       "    }\n",
       "\n",
       "    .dataframe thead th {\n",
       "        text-align: right;\n",
       "    }\n",
       "</style>\n",
       "<table border=\"1\" class=\"dataframe\">\n",
       "  <thead>\n",
       "    <tr style=\"text-align: right;\">\n",
       "      <th></th>\n",
       "      <th>c1</th>\n",
       "      <th>c2</th>\n",
       "      <th>c4</th>\n",
       "    </tr>\n",
       "  </thead>\n",
       "  <tbody>\n",
       "    <tr>\n",
       "      <th>0</th>\n",
       "      <td>12</td>\n",
       "      <td>5</td>\n",
       "      <td>1</td>\n",
       "    </tr>\n",
       "    <tr>\n",
       "      <th>1</th>\n",
       "      <td>13</td>\n",
       "      <td>6</td>\n",
       "      <td>2</td>\n",
       "    </tr>\n",
       "    <tr>\n",
       "      <th>2</th>\n",
       "      <td>14</td>\n",
       "      <td>7</td>\n",
       "      <td>3</td>\n",
       "    </tr>\n",
       "  </tbody>\n",
       "</table>\n",
       "</div>"
      ],
      "text/plain": [
       "   c1  c2  c4\n",
       "0  12   5   1\n",
       "1  13   6   2\n",
       "2  14   7   3"
      ]
     },
     "execution_count": 14,
     "metadata": {},
     "output_type": "execute_result"
    }
   ],
   "source": [
    "pd.merge(df6,df7,how='inner',on='c2')"
   ]
  },
  {
   "cell_type": "code",
   "execution_count": null,
   "id": "f5de0d48-c305-492f-a4dc-562c51a5cacf",
   "metadata": {},
   "outputs": [],
   "source": []
  },
  {
   "cell_type": "code",
   "execution_count": null,
   "id": "0c626ab6-87dd-41dc-bca2-f45f6e84de84",
   "metadata": {},
   "outputs": [],
   "source": []
  }
 ],
 "metadata": {
  "kernelspec": {
   "display_name": "Python 3 (ipykernel)",
   "language": "python",
   "name": "python3"
  },
  "language_info": {
   "codemirror_mode": {
    "name": "ipython",
    "version": 3
   },
   "file_extension": ".py",
   "mimetype": "text/x-python",
   "name": "python",
   "nbconvert_exporter": "python",
   "pygments_lexer": "ipython3",
   "version": "3.9.13"
  }
 },
 "nbformat": 4,
 "nbformat_minor": 5
}
